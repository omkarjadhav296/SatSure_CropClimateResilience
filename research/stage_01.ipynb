{
 "cells": [
  {
   "cell_type": "markdown",
   "id": "e5d97828",
   "metadata": {},
   "source": [
    "## Data Ingestion Stage"
   ]
  },
  {
   "cell_type": "code",
   "execution_count": null,
   "id": "0de0b09f",
   "metadata": {},
   "outputs": [],
   "source": []
  }
 ],
 "metadata": {
  "kernelspec": {
   "display_name": "tf",
   "language": "python",
   "name": "python3"
  },
  "language_info": {
   "name": "python",
   "version": "3.9.12"
  }
 },
 "nbformat": 4,
 "nbformat_minor": 5
}
